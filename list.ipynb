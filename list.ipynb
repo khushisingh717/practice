{
 "cells": [
  {
   "cell_type": "code",
   "execution_count": 2,
   "metadata": {},
   "outputs": [
    {
     "name": "stdout",
     "output_type": "stream",
     "text": [
      "['drive', 'maps', 'swiggy', 'zomato', 'goggle', 'facebook', 'whatsapp', 'blinkit', 'gallery']\n"
     ]
    }
   ],
   "source": [
    "apps = [\"drive\", \"maps\", \"swiggy\", \"zomato\", \"goggle\", \"facebook\", \"whatsapp\", \"blinkit\", \"gallery\"]\n",
    "print(apps)"
   ]
  },
  {
   "cell_type": "code",
   "execution_count": 3,
   "metadata": {},
   "outputs": [
    {
     "name": "stdout",
     "output_type": "stream",
     "text": [
      "zomato\n",
      "whatsapp\n"
     ]
    }
   ],
   "source": [
    "print(apps[3])\n",
    "print(apps[6])"
   ]
  },
  {
   "cell_type": "markdown",
   "metadata": {},
   "source": [
    "slicing"
   ]
  },
  {
   "cell_type": "markdown",
   "metadata": {},
   "source": []
  },
  {
   "cell_type": "code",
   "execution_count": 4,
   "metadata": {},
   "outputs": [
    {
     "name": "stdout",
     "output_type": "stream",
     "text": [
      "['maps', 'swiggy', 'zomato', 'goggle', 'facebook']\n",
      "['maps', 'zomato', 'facebook', 'blinkit']\n",
      "['facebook', 'whatsapp', 'blinkit', 'gallery']\n",
      "['drive', 'maps', 'swiggy', 'zomato', 'goggle', 'facebook', 'whatsapp']\n",
      "['drive', 'swiggy', 'goggle', 'whatsapp', 'gallery']\n",
      "['drive', 'maps', 'swiggy', 'zomato', 'goggle', 'facebook', 'whatsapp', 'blinkit', 'gallery']\n"
     ]
    }
   ],
   "source": [
    "print(apps[1:6])\n",
    "print(apps[1:9:2])\n",
    "print(apps[5:])\n",
    "print(apps[:7])\n",
    "print(apps[::2])\n",
    "print(apps[:])"
   ]
  },
  {
   "cell_type": "markdown",
   "metadata": {},
   "source": [
    "indexing"
   ]
  },
  {
   "cell_type": "code",
   "execution_count": 5,
   "metadata": {},
   "outputs": [
    {
     "name": "stdout",
     "output_type": "stream",
     "text": [
      "zomato\n"
     ]
    }
   ],
   "source": [
    "print(apps[3])"
   ]
  },
  {
   "cell_type": "markdown",
   "metadata": {},
   "source": []
  },
  {
   "cell_type": "markdown",
   "metadata": {},
   "source": [
    "list method\n",
    "- append() : to add an element at the end of the list \n",
    "- insert() : to tadd an element at any specific position \n",
    "- pop() : to delete an item using the index  position\n",
    "- remove() : to delete an item usng its name \n",
    "- sort() : to sort the list in the particular order\n",
    "- copy() : to make a copy of the list\n",
    "- extend() : to combine the list into a one list\n",
    "- clear() : delete all element from the list but not the list "
   ]
  },
  {
   "cell_type": "markdown",
   "metadata": {},
   "source": []
  },
  {
   "cell_type": "code",
   "execution_count": 6,
   "metadata": {},
   "outputs": [
    {
     "name": "stdout",
     "output_type": "stream",
     "text": [
      "['drive', 'maps', 'swiggy', 'zomato', 'goggle', 'facebook', 'whatsapp', 'blinkit', 'gallery']\n"
     ]
    }
   ],
   "source": [
    "print(apps)"
   ]
  },
  {
   "cell_type": "code",
   "execution_count": 7,
   "metadata": {},
   "outputs": [
    {
     "name": "stdout",
     "output_type": "stream",
     "text": [
      "['drive', 'maps', 'swiggy', 'zomato', 'goggle', 'facebook', 'whatsapp', 'blinkit', 'gallery', 'whatsapp']\n"
     ]
    }
   ],
   "source": [
    "apps.append(\"whatsapp\")\n",
    "print(apps)"
   ]
  },
  {
   "cell_type": "code",
   "execution_count": 10,
   "metadata": {},
   "outputs": [
    {
     "name": "stdout",
     "output_type": "stream",
     "text": [
      "['drive', 'maps', 'swiggy', 'radio', 'zomato', 'goggle', 'facebook', 'whatsapp', 'blinkit', 'gallery', 'whatsapp']\n"
     ]
    }
   ],
   "source": [
    "apps.insert(3,'radio')\n",
    "print(apps)"
   ]
  },
  {
   "cell_type": "code",
   "execution_count": 13,
   "metadata": {},
   "outputs": [
    {
     "name": "stdout",
     "output_type": "stream",
     "text": [
      "['drive', 'maps', 'swiggy', 'radio', 'zomato', 'goggle', 'facebook', 'gallery', 'whatsapp']\n"
     ]
    }
   ],
   "source": [
    "apps.pop(-3)\n",
    "print(apps)"
   ]
  },
  {
   "cell_type": "code",
   "execution_count": 14,
   "metadata": {},
   "outputs": [
    {
     "name": "stdout",
     "output_type": "stream",
     "text": [
      "['drive', 'maps', 'radio', 'zomato', 'goggle', 'facebook', 'gallery', 'whatsapp']\n"
     ]
    }
   ],
   "source": [
    "apps.remove('swiggy')\n",
    "print(apps)"
   ]
  },
  {
   "cell_type": "code",
   "execution_count": 16,
   "metadata": {},
   "outputs": [
    {
     "name": "stdout",
     "output_type": "stream",
     "text": [
      "['drive', 'facebook', 'gallery', 'goggle', 'maps', 'radio', 'whatsapp', 'zomato']\n"
     ]
    }
   ],
   "source": [
    "apps.sort()\n",
    "print(apps)"
   ]
  },
  {
   "cell_type": "code",
   "execution_count": 18,
   "metadata": {},
   "outputs": [
    {
     "name": "stdout",
     "output_type": "stream",
     "text": [
      "['drive', 'facebook', 'gallery', 'goggle', 'maps', 'radio', 'whatsapp', 'zomato']\n"
     ]
    }
   ],
   "source": [
    "apps2 = apps.copy()\n",
    "print(apps2)"
   ]
  },
  {
   "cell_type": "code",
   "execution_count": 19,
   "metadata": {},
   "outputs": [
    {
     "name": "stdout",
     "output_type": "stream",
     "text": [
      "['drive', 'facebook', 'gallery', 'goggle', 'maps', 'radio', 'whatsapp', 'zomato', 'drive', 'facebook', 'gallery', 'goggle', 'maps', 'radio', 'whatsapp', 'zomato']\n"
     ]
    }
   ],
   "source": [
    "apps.extend(apps2)\n",
    "print(apps)"
   ]
  },
  {
   "cell_type": "code",
   "execution_count": 21,
   "metadata": {},
   "outputs": [
    {
     "name": "stdout",
     "output_type": "stream",
     "text": [
      "[]\n"
     ]
    }
   ],
   "source": [
    "apps2.clear()\n",
    "print(apps2)"
   ]
  },
  {
   "cell_type": "code",
   "execution_count": null,
   "metadata": {},
   "outputs": [],
   "source": []
  }
 ],
 "metadata": {
  "kernelspec": {
   "display_name": "base",
   "language": "python",
   "name": "python3"
  },
  "language_info": {
   "codemirror_mode": {
    "name": "ipython",
    "version": 3
   },
   "file_extension": ".py",
   "mimetype": "text/x-python",
   "name": "python",
   "nbconvert_exporter": "python",
   "pygments_lexer": "ipython3",
   "version": "3.8.18"
  }
 },
 "nbformat": 4,
 "nbformat_minor": 2
}
