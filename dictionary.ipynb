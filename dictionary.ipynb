{
 "cells": [
  {
   "cell_type": "markdown",
   "metadata": {},
   "source": [
    ". how to declare it\n",
    ". how to acess key and values \n",
    ". how to use loops in dictionary\n",
    ". indexing in dictionary"
   ]
  },
  {
   "cell_type": "code",
   "execution_count": 12,
   "metadata": {},
   "outputs": [
    {
     "name": "stdout",
     "output_type": "stream",
     "text": [
      "{'name': 'khushi singh', 'age': 19, 'class': '12th'}\n"
     ]
    }
   ],
   "source": [
    "student ={\n",
    "    'name' : 'khushi singh',\n",
    "    'age' : 19, \n",
    "    'class' : '12th'\n",
    "}\n",
    "print(student)"
   ]
  },
  {
   "cell_type": "code",
   "execution_count": 13,
   "metadata": {},
   "outputs": [
    {
     "name": "stdout",
     "output_type": "stream",
     "text": [
      "{'lucknow': [25, 30, 35], 'delhi': [30, 35, 40], 'mumbai': [35, 40, 45]}\n"
     ]
    }
   ],
   "source": [
    "temp = {\n",
    "    'lucknow' :[25,30,35],\n",
    "    'delhi' :[30,35,40],\n",
    "    'mumbai' :[35,40,45]\n",
    "}\n",
    "print(temp)"
   ]
  },
  {
   "cell_type": "code",
   "execution_count": 14,
   "metadata": {},
   "outputs": [
    {
     "name": "stdout",
     "output_type": "stream",
     "text": [
      "{'name': 'john', 'age': 18, 'rollno': 12, 'marks': 60}\n"
     ]
    }
   ],
   "source": [
    "info = dict(name=\"john\", age=18, rollno=12, marks=60)\n",
    "print(info)"
   ]
  },
  {
   "cell_type": "code",
   "execution_count": 2,
   "metadata": {},
   "outputs": [
    {
     "name": "stdout",
     "output_type": "stream",
     "text": [
      "{'name': 'khushi', 'age': 18, 'rollno': 65, 'marks': 98}\n"
     ]
    }
   ],
   "source": [
    "info2 = dict(name = input(\"enter name:\"), age = int(input(\"enter age:\")),\n",
    "rollno = int(input(\"enter rollno:\")), marks = int(input(\"enter marks:\")))\n",
    "print(info2)            "
   ]
  },
  {
   "cell_type": "code",
   "execution_count": 13,
   "metadata": {},
   "outputs": [
    {
     "name": "stdout",
     "output_type": "stream",
     "text": [
      "khushi singh\n",
      "21\n"
     ]
    }
   ],
   "source": [
    "# 1st method to acess value its key\n",
    "print(student['name'])\n",
    "print(info2['age'])"
   ]
  },
  {
   "cell_type": "code",
   "execution_count": 14,
   "metadata": {},
   "outputs": [
    {
     "name": "stdout",
     "output_type": "stream",
     "text": [
      "john\n",
      "87\n"
     ]
    }
   ],
   "source": [
    "# 2nd method to acess value its key\n",
    "print(info2.get('name'))\n",
    "print(info2.get('marks'))"
   ]
  },
  {
   "cell_type": "code",
   "execution_count": 15,
   "metadata": {},
   "outputs": [
    {
     "name": "stdout",
     "output_type": "stream",
     "text": [
      "{'name': 'khushi singh', 'age': 19, 'class': '12th', 'city': 'lucknow'}\n"
     ]
    }
   ],
   "source": [
    "# to add items in a dictionary \n",
    "student['city'] = 'lucknow'\n",
    "print(student)"
   ]
  },
  {
   "cell_type": "code",
   "execution_count": 16,
   "metadata": {},
   "outputs": [
    {
     "name": "stdout",
     "output_type": "stream",
     "text": [
      "dict_keys(['name', 'age', 'class', 'city'])\n",
      "dict_values(['khushi singh', 19, '12th', 'lucknow'])\n"
     ]
    }
   ],
   "source": [
    "print(student.keys())\n",
    "print(student.values())"
   ]
  },
  {
   "cell_type": "code",
   "execution_count": 17,
   "metadata": {},
   "outputs": [
    {
     "name": "stdout",
     "output_type": "stream",
     "text": [
      "name\n",
      "age\n",
      "class\n",
      "city\n"
     ]
    }
   ],
   "source": [
    "for k in student:\n",
    "    print(k)"
   ]
  },
  {
   "cell_type": "code",
   "execution_count": 21,
   "metadata": {},
   "outputs": [
    {
     "name": "stdout",
     "output_type": "stream",
     "text": [
      "name khushi singh\n",
      "age 19\n",
      "class 12th\n",
      "city lucknow\n"
     ]
    }
   ],
   "source": [
    "for k,v in student.items():\n",
    "    print(k,v)"
   ]
  },
  {
   "cell_type": "code",
   "execution_count": 4,
   "metadata": {},
   "outputs": [
    {
     "name": "stdout",
     "output_type": "stream",
     "text": [
      "{'emp001': {'name': 'khushi', 'age': 20, 'dept': 'HR'}, 'emp002': {'name': 'saurabh', 'age': 25, 'dept': 'IT'}, 'emp003': {'name': 'tommy', 'age': '17', 'dept': 'Finance'}}\n"
     ]
    }
   ],
   "source": [
    "company = {\n",
    "    \"emp001\" :{\n",
    "        \"name\":\"khushi\",\n",
    "        \"age\":20,\n",
    "        \"dept\": 'HR'\n",
    "    },\n",
    "    \"emp002\" :{\n",
    "        \"name\":\"saurabh\",\n",
    "        \"age\":25,\n",
    "        \"dept\":'IT'\n",
    "    },\n",
    "    \"emp003\":{\n",
    "        \"name\":\"tommy\",\n",
    "        \"age\":\"17\",\n",
    "        \"dept\":'Finance'\n",
    "    }\n",
    "}\n",
    "print(company)\n"
   ]
  },
  {
   "cell_type": "code",
   "execution_count": 6,
   "metadata": {},
   "outputs": [
    {
     "name": "stdout",
     "output_type": "stream",
     "text": [
      "{'emp001': {'name': 'khushi', 'age': 20, 'dept': 'HR'},\n",
      " 'emp002': {'name': 'saurabh', 'age': 25, 'dept': 'IT'},\n",
      " 'emp003': {'name': 'tommy', 'age': '17', 'dept': 'Finance'}}\n"
     ]
    }
   ],
   "source": [
    "from pprint import pp\n",
    "pp(company)"
   ]
  },
  {
   "cell_type": "code",
   "execution_count": 8,
   "metadata": {},
   "outputs": [
    {
     "name": "stdout",
     "output_type": "stream",
     "text": [
      "25\n"
     ]
    }
   ],
   "source": [
    "print(company[\"emp002\"][\"age\"])"
   ]
  },
  {
   "cell_type": "code",
   "execution_count": 16,
   "metadata": {},
   "outputs": [
    {
     "name": "stdout",
     "output_type": "stream",
     "text": [
      "30\n",
      "40\n"
     ]
    }
   ],
   "source": [
    "print(temp[\"lucknow\"][1])\n",
    "print(temp[\"delhi\"][2])"
   ]
  },
  {
   "cell_type": "code",
   "execution_count": 21,
   "metadata": {},
   "outputs": [
    {
     "name": "stdout",
     "output_type": "stream",
     "text": [
      "35.0\n"
     ]
    }
   ],
   "source": [
    "print(sum(temp['delhi'])/len(temp['delhi']))"
   ]
  },
  {
   "cell_type": "code",
   "execution_count": null,
   "metadata": {},
   "outputs": [],
   "source": []
  }
 ],
 "metadata": {
  "kernelspec": {
   "display_name": "base",
   "language": "python",
   "name": "python3"
  },
  "language_info": {
   "codemirror_mode": {
    "name": "ipython",
    "version": 3
   },
   "file_extension": ".py",
   "mimetype": "text/x-python",
   "name": "python",
   "nbconvert_exporter": "python",
   "pygments_lexer": "ipython3",
   "version": "3.8.18"
  }
 },
 "nbformat": 4,
 "nbformat_minor": 2
}
